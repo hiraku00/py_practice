{
 "cells": [
  {
   "cell_type": "markdown",
   "metadata": {},
   "source": [
    "#### 正規分布とは？"
   ]
  },
  {
   "cell_type": "markdown",
   "metadata": {},
   "source": [
    "正規分布の確率密度関数は次の式で定義されます。\n",
    "\n",
    "## $$  f(x | \\mu,\\sigma) = \\frac{1}{\\sigma\\sqrt{2\\pi}}e^{-\\frac{(x-\\mu)^2}{2\\sigma^2}} $$\n",
    "\n",
    "μは平均、σは標準偏差です。円周率π=3.14... と自然対数の底 e=2.718... は定数です。\n",
    "確率の総和は1です。X=aとX=b（a<b）の間に挟まれた領域は、Xがaとbのあいだになる確率を意味していて、これを次のように書きます。$Pr(a<X<b)$\n",
    "\n",
    "----------"
   ]
  },
  {
   "cell_type": "markdown",
   "metadata": {},
   "source": [
    "分布の形を見て、正規分布の主な特徴を確認していきましょう。\n",
    "\n",
    "    1.) 左右に裾野を持ちます。\n",
    "    2.) 曲線は左右対称です。\n",
    "    3.) ピークは平均の値です。\n",
    "    4.) 標準偏差が曲線の形を特徴付けます。\n",
    "        - 背が高い分布は、小さな標準偏差のときです。\n",
    "        - 太った分布は、大きな標準偏差のときです。\n",
    "    5.) 曲線のしたの面積（AUC: area under the curve）は1です。\n",
    "    6.) 平均値、中央値、最頻値（mode）がすべて同じです。\n",
    "    \n",
    "平均が0、標準偏差が1の標準正規分布では、±1標準偏差に68%、±2標準偏差に95%が含まれ、±3標準偏差までには、全体の99.7%が含まれます。この1,2,3といった数字をz-scoreと呼ぶこともあります。    \n"
   ]
  },
  {
   "cell_type": "code",
   "execution_count": 2,
   "metadata": {},
   "outputs": [
    {
     "data": {
      "text/html": [
       "<img src=\"http://upload.wikimedia.org/wikipedia/commons/thumb/2/25/The_Normal_Distribution.svg/725px-The_Normal_Distribution.svg.png\"/>"
      ],
      "text/plain": [
       "<IPython.core.display.Image object>"
      ]
     },
     "execution_count": 2,
     "metadata": {},
     "output_type": "execute_result"
    }
   ],
   "source": [
    "from IPython.display import Image\n",
    "Image(url='http://upload.wikimedia.org/wikipedia/commons/thumb/2/25/The_Normal_Distribution.svg/725px-The_Normal_Distribution.svg.png')"
   ]
  },
  {
   "cell_type": "markdown",
   "metadata": {},
   "source": [
    "scipyを使って、正規分布を作る"
   ]
  },
  {
   "cell_type": "code",
   "execution_count": 4,
   "metadata": {},
   "outputs": [],
   "source": [
    "import matplotlib as mpl\n",
    "import matplotlib.pyplot as plt\n",
    "import numpy as np\n",
    "%matplotlib inline"
   ]
  },
  {
   "cell_type": "code",
   "execution_count": 5,
   "metadata": {},
   "outputs": [],
   "source": [
    "plt.style.use('seaborn-whitegrid')"
   ]
  },
  {
   "cell_type": "code",
   "execution_count": 6,
   "metadata": {},
   "outputs": [],
   "source": [
    "# statsライブラリをインポート\n",
    "from scipy import stats"
   ]
  },
  {
   "cell_type": "code",
   "execution_count": 7,
   "metadata": {},
   "outputs": [],
   "source": [
    "# 平均を0\n",
    "mean = 0"
   ]
  },
  {
   "cell_type": "code",
   "execution_count": 8,
   "metadata": {},
   "outputs": [],
   "source": [
    "# 標準偏差を1にしてみる\n",
    "std = 1"
   ]
  },
  {
   "cell_type": "code",
   "execution_count": 9,
   "metadata": {},
   "outputs": [],
   "source": [
    "# 年着的に領域を決める\n",
    "X = np.arange(-4,4,0.01)"
   ]
  },
  {
   "cell_type": "code",
   "execution_count": 10,
   "metadata": {},
   "outputs": [],
   "source": [
    "# 値を計算\n",
    "Y = stats.norm.pdf(X,mean,std)"
   ]
  },
  {
   "cell_type": "code",
   "execution_count": 11,
   "metadata": {},
   "outputs": [
    {
     "data": {
      "text/plain": [
       "[<matplotlib.lines.Line2D at 0x1a0fe69ba8>]"
      ]
     },
     "execution_count": 11,
     "metadata": {},
     "output_type": "execute_result"
    },
    {
     "data": {
      "image/png": "[encoded data removed]",
      "text/plain": [
       "<matplotlib.figure.Figure at 0x1a0fe26550>"
      ]
     },
     "metadata": {},
     "output_type": "display_data"
    }
   ],
   "source": [
    "plt.plot(X,Y)"
   ]
  },
  {
   "cell_type": "markdown",
   "metadata": {},
   "source": [
    "numpyを使っても正規分布を作れます。"
   ]
  },
  {
   "cell_type": "code",
   "execution_count": 12,
   "metadata": {},
   "outputs": [],
   "source": [
    "import numpy as np"
   ]
  },
  {
   "cell_type": "code",
   "execution_count": 13,
   "metadata": {},
   "outputs": [],
   "source": [
    "mu, sigma = 0, 0.1"
   ]
  },
  {
   "cell_type": "code",
   "execution_count": 14,
   "metadata": {},
   "outputs": [],
   "source": [
    "# 正規分布に従う乱数を100個生成\n",
    "norm_set = np.random.normal(mu, sigma, 1000)"
   ]
  },
  {
   "cell_type": "code",
   "execution_count": 15,
   "metadata": {},
   "outputs": [
    {
     "data": {
      "text/plain": [
       "(array([  1.,   1.,   0.,   1.,   3.,   2.,   6.,   8.,  15.,  25.,  17.,\n",
       "         18.,  25.,  37.,  30.,  39.,  39.,  51.,  54.,  57.,  62.,  66.,\n",
       "         58.,  52.,  50.,  44.,  36.,  41.,  40.,  25.,  23.,  24.,   9.,\n",
       "         12.,   7.,   8.,   5.,   4.,   1.,   1.,   1.,   1.,   0.,   0.,\n",
       "          0.,   0.,   0.,   0.,   0.,   1.]),\n",
       " array([-0.30727949, -0.29273096, -0.27818244, -0.26363391, -0.24908539,\n",
       "        -0.23453687, -0.21998834, -0.20543982, -0.19089129, -0.17634277,\n",
       "        -0.16179424, -0.14724572, -0.1326972 , -0.11814867, -0.10360015,\n",
       "        -0.08905162, -0.0745031 , -0.05995458, -0.04540605, -0.03085753,\n",
       "        -0.016309  , -0.00176048,  0.01278805,  0.02733657,  0.04188509,\n",
       "         0.05643362,  0.07098214,  0.08553067,  0.10007919,  0.11462771,\n",
       "         0.12917624,  0.14372476,  0.15827329,  0.17282181,  0.18737033,\n",
       "         0.20191886,  0.21646738,  0.23101591,  0.24556443,  0.26011296,\n",
       "         0.27466148,  0.28921   ,  0.30375853,  0.31830705,  0.33285558,\n",
       "         0.3474041 ,  0.36195262,  0.37650115,  0.39104967,  0.4055982 ,\n",
       "         0.42014672]),\n",
       " <a list of 50 Patch objects>)"
      ]
     },
     "execution_count": 15,
     "metadata": {},
     "output_type": "execute_result"
    },
    {
     "data": {
      "image/png": "[encoded data removed]",
      "text/plain": [
       "<matplotlib.figure.Figure at 0x1a181bf5f8>"
      ]
     },
     "metadata": {},
     "output_type": "display_data"
    }
   ],
   "source": [
    "import seaborn as sns\n",
    "plt.hist(norm_set, bins=50)"
   ]
  },
  {
   "cell_type": "markdown",
   "metadata": {},
   "source": [
    "正規分布は非常に重要な分布なので、多くの情報があります。ここでの導入は、最初の1歩にすぎませんので、是非いろいろと調べてみてください。\n",
    "\n",
    "1.) https://ja.wikipedia.org/wiki/%E6%AD%A3%E8%A6%8F%E5%88%86%E5%B8%83\n",
    "\n",
    "2.) http://mathworld.wolfram.com/NormalDistribution.html\n",
    "\n",
    "3.) http://stattrek.com/probability-distributions/normal.aspx"
   ]
  },
  {
   "cell_type": "code",
   "execution_count": null,
   "metadata": {},
   "outputs": [],
   "source": []
  }
 ],
 "metadata": {
  "kernelspec": {
   "display_name": "Python 3",
   "language": "python",
   "name": "python3"
  },
  "language_info": {
   "codemirror_mode": {
    "name": "ipython",
    "version": 3
   },
   "file_extension": ".py",
   "mimetype": "text/x-python",
   "name": "python",
   "nbconvert_exporter": "python",
   "pygments_lexer": "ipython3",
   "version": "3.6.3"
  }
 },
 "nbformat": 4,
 "nbformat_minor": 2
}
