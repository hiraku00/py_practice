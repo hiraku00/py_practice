{
 "cells": [
  {
   "cell_type": "markdown",
   "metadata": {},
   "source": [
    "#### 連続一様分布について解説します。離散一様分布を先に見ておいてください。"
   ]
  },
  {
   "cell_type": "markdown",
   "metadata": {},
   "source": [
    "離散一様分布では、取り得る値と確率を分かりやすく対応付けることができました。しかし、連続一様分布ではそうは行きません。無限の精度を求めると、いくらでも数字を細かくできます。これは、2つの数字を考えたとき、その間から必ず別の数字を選べるという意味でもあります。例えば、5.41と5.42を考えると、5.415を選べます。\n",
    "\n",
    "そう考えると、連続一様分布では、取り得る値の個数nが無限大になります。そうなると、確率は1/∞になってしまうので、0です。これでは話が始まりませんので、連続分布で確率を考えるときは、1点ではなく、領域を考えます。これを分かり易くするために、例を交えながら、さらに見ていくことにしましょう。"
   ]
  },
  {
   "cell_type": "markdown",
   "metadata": {},
   "source": [
    "##### 連続な確率変数Xが次のような確率密度関数（probability density function）に従うとき、これを連続一様分布と呼びます。"
   ]
  },
  {
   "cell_type": "markdown",
   "metadata": {},
   "source": [
    "$$f(x)=\\frac{1}{(b-a)}\\\\\\\\a<=x<=b$$"
   ]
  },
  {
   "cell_type": "markdown",
   "metadata": {},
   "source": [
    "離散一様分布では、f(x)=1/n でしたが、連続一様分布では、最小値aと最大値bの間で定義される領域を考えます。\n",
    "\n",
    "分布の平均は単純です。\n",
    "$$\\frac{(a+b)}{2}$$\n",
    "\n",
    "分散は次のように定義されます。\n",
    "$$ \\sigma^2 = \\frac{(b-a)^2}{12}$$\n"
   ]
  },
  {
   "cell_type": "markdown",
   "metadata": {},
   "source": [
    "ニューヨーク市での平均的なタクシーの乗車時間は22分くらいであることが知られています。\n",
    "調査の結果、この乗車時間が、19分から27分の間の連続的な一様分布に従うことが分かったとします。\n",
    "タクシー乗車時間の確率密度関数を求めてみましょう。"
   ]
  },
  {
   "cell_type": "code",
   "execution_count": 4,
   "metadata": {},
   "outputs": [
    {
     "name": "stdout",
     "output_type": "stream",
     "text": [
      "確率密度関数は、0.125\n"
     ]
    }
   ],
   "source": [
    "# 乗車時間の下限\n",
    "a = 19\n",
    "\n",
    "# 上限\n",
    "b = 27\n",
    "\n",
    "# 連続一様分布の確率密度関数です。\n",
    "fx = 1.0/(b-a)\n",
    "\n",
    "print('確率密度関数は、{}'.format(fx))"
   ]
  },
  {
   "cell_type": "code",
   "execution_count": 5,
   "metadata": {},
   "outputs": [
    {
     "name": "stdout",
     "output_type": "stream",
     "text": [
      "分散=5.333333333333333\n"
     ]
    }
   ],
   "source": [
    "# 分散\n",
    "var = ((b-a)**2 )/12\n",
    "\n",
    "print('分散={}'.format(var))"
   ]
  },
  {
   "cell_type": "markdown",
   "metadata": {},
   "source": [
    "乗車時間が少なくとも25分続く確率を計算"
   ]
  },
  {
   "cell_type": "code",
   "execution_count": 9,
   "metadata": {},
   "outputs": [
    {
     "name": "stdout",
     "output_type": "stream",
     "text": [
      "乗車時間が少なくとも25分かかる確率は25.0%\n"
     ]
    }
   ],
   "source": [
    "# これは、全体から、乗車時間が25分より短い場合を引けばよいので、次のようにして求めることができます。\n",
    "\n",
    "# 乗車時間が27分までに収まる確率は全体なので1です。\n",
    "# 一方、乗車時間が25分までに収まる確率は、\n",
    "f25 = (25-19)/(b-a)\n",
    "\n",
    "ans = 1-f25\n",
    "\n",
    "print('乗車時間が少なくとも25分かかる確率は{}%'.format(100*ans))"
   ]
  },
  {
   "cell_type": "markdown",
   "metadata": {},
   "source": [
    "scipyを使って便利に連続一様分布を作ってみます。"
   ]
  },
  {
   "cell_type": "code",
   "execution_count": 7,
   "metadata": {},
   "outputs": [
    {
     "data": {
      "text/plain": [
       "[<matplotlib.lines.Line2D at 0x10e60b400>]"
      ]
     },
     "execution_count": 7,
     "metadata": {},
     "output_type": "execute_result"
    },
    {
     "data": {
      "image/png": "[encoded data removed]",
      "text/plain": [
       "<matplotlib.figure.Figure at 0x10e5dab00>"
      ]
     },
     "metadata": {},
     "output_type": "display_data"
    }
   ],
   "source": [
    "from scipy.stats import uniform\n",
    "import numpy as np\n",
    "import matplotlib.pyplot as plt\n",
    "%matplotlib inline\n",
    "plt.style.use('seaborn-whitegrid')\n",
    "\n",
    "# 最小と最大を作ります。\n",
    "A=0\n",
    "B=5\n",
    "\n",
    "# AからBまで100ポイントを作っておきます。\n",
    "x = np.linspace(A,B,100)\n",
    "\n",
    "# 連続一様分布は、uniform(loc=start point,scale=endpoint)で作れます。\n",
    "rv = uniform(loc=A,scale=B)\n",
    "\n",
    "# 確率密度関数（PDF）と累積分布関数（Cumulative Distribution Function)を描いてみます。\n",
    "plt.plot(x,rv.pdf(x))\n",
    "plt.plot(x,rv.cdf(x))"
   ]
  },
  {
   "cell_type": "markdown",
   "metadata": {},
   "source": [
    "青い線は、0.2のところにありますが、1/(5-0) が 1/5 で 0.2なので、すぐに確かめられます。\n",
    "\n",
    "#### 2,3は英語ですが、Web上にも有用な情報があります。\n",
    "\n",
    "1.)https://ja.wikipedia.org/wiki/%E9%80%A3%E7%B6%9A%E4%B8%80%E6%A7%98%E5%88%86%E5%B8%83\n",
    "\n",
    "2.)http://docs.scipy.org/doc/scipy/reference/generated/scipy.stats.uniform.html\n",
    "\n",
    "3.)http://mathworld.wolfram.com/UniformDistribution.html"
   ]
  },
  {
   "cell_type": "code",
   "execution_count": null,
   "metadata": {},
   "outputs": [],
   "source": []
  }
 ],
 "metadata": {
  "kernelspec": {
   "display_name": "Python 3",
   "language": "python",
   "name": "python3"
  },
  "language_info": {
   "codemirror_mode": {
    "name": "ipython",
    "version": 3
   },
   "file_extension": ".py",
   "mimetype": "text/x-python",
   "name": "python",
   "nbconvert_exporter": "python",
   "pygments_lexer": "ipython3",
   "version": "3.6.3"
  }
 },
 "nbformat": 4,
 "nbformat_minor": 2
}
